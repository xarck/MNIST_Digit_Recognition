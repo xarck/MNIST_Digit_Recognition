{
 "cells": [
  {
   "cell_type": "code",
   "execution_count": 81,
   "metadata": {},
   "outputs": [],
   "source": [
    "import torch\n",
    "import torchvision\n",
    "from torchvision import transforms\n",
    "import torch.nn as nn\n",
    "from tqdm import tqdm\n",
    "import matplotlib.pyplot as plt"
   ]
  },
  {
   "cell_type": "code",
   "execution_count": 82,
   "metadata": {},
   "outputs": [],
   "source": [
    "train_set = torchvision.datasets.MNIST('../data',train=True,download=False,transform=transforms.Compose([transforms.ToTensor()]))\n",
    "test_set = torchvision.datasets.MNIST('../data',download=False,train=False,transform=transforms.Compose([transforms.ToTensor()]))"
   ]
  },
  {
   "cell_type": "code",
   "execution_count": 83,
   "metadata": {},
   "outputs": [],
   "source": [
    "train_loader = torch.utils.data.DataLoader(train_set,batch_size=256,shuffle=True)\n",
    "test_loader = torch.utils.data.DataLoader(test_set,batch_size=256,shuffle=True)"
   ]
  },
  {
   "cell_type": "code",
   "execution_count": 84,
   "metadata": {},
   "outputs": [],
   "source": [
    "class MNIST(nn.Module):\n",
    "    def __init__(self):\n",
    "        super().__init__()\n",
    "        self.conv1 = nn.Conv2d(1,16,3,stride=2,padding=1)\n",
    "        self.conv2 = nn.Conv2d(16,32,3,stride=2,padding=1)\n",
    "        self.conv3 = nn.Conv2d(32,64,3,stride=2,padding=1)\n",
    "        self.lrelu = nn.LeakyReLU()\n",
    "        self.relu = nn.ReLU()\n",
    "        self.out1 = nn.Linear(1024,128)\n",
    "        self.out2 = nn.Linear(128,10)\n",
    "\n",
    "    def forward(self,x):\n",
    "        out = self.conv1(x)\n",
    "        out = self.lrelu(out)\n",
    "        out = self.conv2(out)\n",
    "        out = self.lrelu(out)\n",
    "        out = self.conv3(out)\n",
    "        out = self.lrelu(out)\n",
    "        out = out.view(out.size(0),-1)\n",
    "        out = self.out1(out)\n",
    "        out = self.lrelu(out)\n",
    "        out = self.out2(out)\n",
    "        return out"
   ]
  },
  {
   "cell_type": "code",
   "execution_count": 85,
   "metadata": {},
   "outputs": [],
   "source": [
    "device = 'cuda' if torch.cuda.is_available() else 'cpu'"
   ]
  },
  {
   "cell_type": "code",
   "execution_count": 86,
   "metadata": {},
   "outputs": [
    {
     "data": {
      "text/plain": [
       "MNIST(\n",
       "  (conv1): Conv2d(1, 16, kernel_size=(3, 3), stride=(2, 2), padding=(1, 1))\n",
       "  (conv2): Conv2d(16, 32, kernel_size=(3, 3), stride=(2, 2), padding=(1, 1))\n",
       "  (conv3): Conv2d(32, 64, kernel_size=(3, 3), stride=(2, 2), padding=(1, 1))\n",
       "  (lrelu): LeakyReLU(negative_slope=0.01)\n",
       "  (relu): ReLU()\n",
       "  (out1): Linear(in_features=1024, out_features=128, bias=True)\n",
       "  (out2): Linear(in_features=128, out_features=10, bias=True)\n",
       ")"
      ]
     },
     "execution_count": 86,
     "metadata": {},
     "output_type": "execute_result"
    }
   ],
   "source": [
    "model = MNIST()\n",
    "model.to(device)"
   ]
  },
  {
   "cell_type": "code",
   "execution_count": 92,
   "metadata": {},
   "outputs": [
    {
     "name": "stdout",
     "output_type": "stream",
     "text": [
      "==========================================================================================\n",
      "Layer (type:depth-idx)                   Output Shape              Param #\n",
      "==========================================================================================\n",
      "├─Conv2d: 1-1                            [-1, 16, 14, 14]          160\n",
      "├─LeakyReLU: 1-2                         [-1, 16, 14, 14]          --\n",
      "├─Conv2d: 1-3                            [-1, 32, 7, 7]            4,640\n",
      "├─LeakyReLU: 1-4                         [-1, 32, 7, 7]            --\n",
      "├─Conv2d: 1-5                            [-1, 64, 4, 4]            18,496\n",
      "├─LeakyReLU: 1-6                         [-1, 64, 4, 4]            --\n",
      "├─Linear: 1-7                            [-1, 128]                 131,200\n",
      "├─LeakyReLU: 1-8                         [-1, 128]                 --\n",
      "├─Linear: 1-9                            [-1, 10]                  1,290\n",
      "==========================================================================================\n",
      "Total params: 155,786\n",
      "Trainable params: 155,786\n",
      "Non-trainable params: 0\n",
      "Total mult-adds (M): 0.68\n",
      "==========================================================================================\n",
      "Input size (MB): 0.00\n",
      "Forward/backward pass size (MB): 0.04\n",
      "Params size (MB): 0.59\n",
      "Estimated Total Size (MB): 0.64\n",
      "==========================================================================================\n"
     ]
    },
    {
     "data": {
      "text/plain": [
       "==========================================================================================\n",
       "Layer (type:depth-idx)                   Output Shape              Param #\n",
       "==========================================================================================\n",
       "├─Conv2d: 1-1                            [-1, 16, 14, 14]          160\n",
       "├─LeakyReLU: 1-2                         [-1, 16, 14, 14]          --\n",
       "├─Conv2d: 1-3                            [-1, 32, 7, 7]            4,640\n",
       "├─LeakyReLU: 1-4                         [-1, 32, 7, 7]            --\n",
       "├─Conv2d: 1-5                            [-1, 64, 4, 4]            18,496\n",
       "├─LeakyReLU: 1-6                         [-1, 64, 4, 4]            --\n",
       "├─Linear: 1-7                            [-1, 128]                 131,200\n",
       "├─LeakyReLU: 1-8                         [-1, 128]                 --\n",
       "├─Linear: 1-9                            [-1, 10]                  1,290\n",
       "==========================================================================================\n",
       "Total params: 155,786\n",
       "Trainable params: 155,786\n",
       "Non-trainable params: 0\n",
       "Total mult-adds (M): 0.68\n",
       "==========================================================================================\n",
       "Input size (MB): 0.00\n",
       "Forward/backward pass size (MB): 0.04\n",
       "Params size (MB): 0.59\n",
       "Estimated Total Size (MB): 0.64\n",
       "=========================================================================================="
      ]
     },
     "execution_count": 92,
     "metadata": {},
     "output_type": "execute_result"
    }
   ],
   "source": [
    "from torchsummary import summary\n",
    "summary(model,(1,28,28))"
   ]
  },
  {
   "cell_type": "code",
   "execution_count": 87,
   "metadata": {},
   "outputs": [],
   "source": [
    "optimizer = torch.optim.Adam(model.parameters(),lr=0.01)\n",
    "criterion = nn.CrossEntropyLoss()"
   ]
  },
  {
   "cell_type": "code",
   "execution_count": 88,
   "metadata": {},
   "outputs": [],
   "source": [
    "def accuracy(outputs, labels):\n",
    "    _, preds = torch.max(outputs, dim=1)\n",
    "    return torch.tensor(torch.sum(preds == labels).item() / len(preds))"
   ]
  },
  {
   "cell_type": "code",
   "execution_count": 89,
   "metadata": {},
   "outputs": [
    {
     "name": "stderr",
     "output_type": "stream",
     "text": [
      "Loss: 0.1692117601633072: 100%|██████████| 50/50 [00:03<00:00, 14.47it/s] \n"
     ]
    }
   ],
   "source": [
    "num_epochs = 50\n",
    "prog_bar = tqdm(range(num_epochs))\n",
    "train_iter = iter(train_loader)\n",
    "for epoch in prog_bar:\n",
    "    image,label = next(iter(train_loader))\n",
    "    image, label = image.to(device),label.to(device)\n",
    "    out = model(image)\n",
    "    loss = nn.functional.cross_entropy(out,label)\n",
    "    loss.backward()\n",
    "    optimizer.step()\n",
    "    optimizer.zero_grad()\n",
    "    prog_bar.set_description(desc=f\"Loss: {loss.item()}\")"
   ]
  },
  {
   "cell_type": "code",
   "execution_count": 90,
   "metadata": {},
   "outputs": [
    {
     "data": {
      "text/plain": [
       "tensor(0.9531)"
      ]
     },
     "execution_count": 90,
     "metadata": {},
     "output_type": "execute_result"
    }
   ],
   "source": [
    "image,label = next(iter(train_loader))\n",
    "image,label = image.to(device),label.to(device)\n",
    "accuracy(model(image),label)"
   ]
  },
  {
   "cell_type": "code",
   "execution_count": 91,
   "metadata": {},
   "outputs": [
    {
     "data": {
      "text/plain": [
       "5"
      ]
     },
     "execution_count": 91,
     "metadata": {},
     "output_type": "execute_result"
    },
    {
     "data": {
      "image/png": "[encoded data removed]",
      "text/plain": [
       "<Figure size 432x288 with 1 Axes>"
      ]
     },
     "metadata": {
      "needs_background": "light"
     },
     "output_type": "display_data"
    }
   ],
   "source": [
    "index = 10\n",
    "image,label = next(iter(test_loader))\n",
    "image,label = image.to(device),label.to(device)\n",
    "a = model(image)\n",
    "plt.imshow(image[index].cpu().permute(1,2,0),cmap='gray')\n",
    "_,pred = torch.max(a,dim=1)\n",
    "pred[index].item()\n"
   ]
  }
 ],
 "metadata": {
  "kernelspec": {
   "display_name": "Python 3.7.2 64-bit",
   "language": "python",
   "name": "python3"
  },
  "language_info": {
   "codemirror_mode": {
    "name": "ipython",
    "version": 3
   },
   "file_extension": ".py",
   "mimetype": "text/x-python",
   "name": "python",
   "nbconvert_exporter": "python",
   "pygments_lexer": "ipython3",
   "version": "3.7.2"
  },
  "orig_nbformat": 4,
  "vscode": {
   "interpreter": {
    "hash": "173b1ad0e598a21817c913127c0ed612d69b6c3d0fd1e8e7f3c7ab65a8d7b09a"
   }
  }
 },
 "nbformat": 4,
 "nbformat_minor": 2
}
